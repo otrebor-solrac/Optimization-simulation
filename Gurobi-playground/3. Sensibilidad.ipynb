{
 "cells": [
  {
   "cell_type": "markdown",
   "id": "ef1b855d-dfd2-4489-9f8f-16e104822422",
   "metadata": {},
   "source": [
    "# Linear Programming Model Analysis with Gurobi\n",
    "\n",
    "This notebook presents the setup, solution, and sensitivity analysis of a linear programming problem using the Gurobi optimization library.\n",
    "\n",
    "## Model Overview\n",
    "\n",
    "The model, named 'modelo 3', aims to **maximize** an objective function subject to three linear constraints.\n",
    "\n",
    "### Decision Variables\n",
    "\n",
    "The model includes five continuous decision variables:\n",
    "* `xt`\n",
    "* `xa`\n",
    "* `xg`\n",
    "* `ca`\n",
    "* `va`\n",
    "\n",
    "### Objective Function\n",
    "\n",
    "The objective is to maximize the following expression:\n",
    "`Maximize: 450*xg + 120*xt + 22*va + 28*xa - 28*ca`\n",
    "\n",
    "### Constraints\n",
    "\n",
    "The problem is subject to the following linear constraints:\n",
    "1.  `xt + xa + 0.1*xg <= 800`\n",
    "2.  `2*xt + 3*xa + 0.05*xg <= 1000`\n",
    "3.  `4*xa + ca - 5*xg - va == 0`\n",
    "\n",
    "## Optimal Solution\n",
    "\n",
    "After solving the model, the Gurobi optimizer found an **optimal objective value** of **2,480,000.0**.\n",
    "\n",
    "The optimal values for the decision variables are:\n",
    "* `xt = 0.0`\n",
    "* `xa = 0.0`\n",
    "* `xg = 8000.0`\n",
    "* `ca = 40000.0`\n",
    "* `va = 0.0`\n",
    "\n",
    "This indicates that to achieve the maximum objective, the optimal strategy involves producing `xg` at its maximum level (8000.0 units) and adjusting `ca` accordingly, while `xt`, `xa`, and `va` are not utilized.\n",
    "\n",
    "## Sensitivity Analysis\n",
    "\n",
    "Sensitivity analysis provides insights into how changes in the model's parameters might affect the optimal solution.\n",
    "\n",
    "### Reduced Costs\n",
    "\n",
    "The reduced cost of a variable indicates how much its objective coefficient would need to change for that variable to become non-zero in the optimal solution.\n",
    "* `xt`: -2980.0\n",
    "* `xa`: -2960.0\n",
    "* `xg`: 0.0\n",
    "* `ca`: 0.0\n",
    "* `va`: -6.0\n",
    "\n",
    "Variables `xg` and `ca` have a reduced cost of 0, as they are part of the optimal basis. For `xt`, `xa`, and `va`, their objective coefficients would need to increase by at least their absolute reduced cost values for them to enter the optimal solution.\n",
    "\n",
    "### Slack Variables\n",
    "\n",
    "The slack value for a constraint indicates the unused capacity or the difference between the left-hand side and right-hand side of the constraint.\n",
    "* `R0` (`xt + xa + 0.1*xg <= 800`): 0.0 (Binding constraint - all capacity utilized)\n",
    "* `R1` (`2*xt + 3*xa + 0.05*xg <= 1000`): 600.0 (Non-binding constraint - 600 units of slack)\n",
    "* `R2` (`4*xa + ca - 5*xg - va == 0`): 0.0 (Equality constraint - perfectly satisfied)\n",
    "\n",
    "### Dual Prices (Shadow Prices)\n",
    "\n",
    "The dual price for a constraint indicates the change in the optimal objective value for a one-unit increase in the right-hand side of that constraint.\n",
    "* `R0`: 3100.0 (Increasing the RHS of `R0` by 1 unit would increase the objective by 3100.0, indicating it's a bottleneck resource).\n",
    "* `R1`: 0.0 (Increasing the RHS of `R1` would not change the objective as there's already slack).\n",
    "* `R2`: -28.0 (Increasing the RHS of `R2` by 1 unit would decrease the objective by 28.0).\n",
    "\n",
    "### Variable Objective Coefficient Sensitivity\n",
    "\n",
    "This shows the range within which each variable's objective coefficient can change without altering the current optimal basis.\n",
    "* `xt`: (-inf, 3100.0]\n",
    "* `xa`: (-inf, 2988.0]\n",
    "* `xg`: [154.0, inf)\n",
    "* `ca`: [-82.81, -22.0]\n",
    "* `va`: (-inf, 28.0]\n",
    "\n",
    "### Constraint RHS Sensitivity\n",
    "\n",
    "This indicates the range within which the right-hand side of each constraint can change without altering the current optimal basis.\n",
    "* `R0`: [0.0, 2000.0] (Current RHS: 800.0)\n",
    "* `R1`: [400.0, inf) (Current RHS: 1000.0)\n",
    "* `R2`: [-40000.0, inf) (Current RHS: 0.0)"
   ]
  },
  {
   "cell_type": "code",
   "execution_count": 1,
   "id": "11a70681",
   "metadata": {},
   "outputs": [],
   "source": [
    "import gurobipy as gp"
   ]
  },
  {
   "cell_type": "code",
   "execution_count": 2,
   "id": "1f145ec4",
   "metadata": {},
   "outputs": [
    {
     "name": "stdout",
     "output_type": "stream",
     "text": [
      "Restricted license - for non-production use only - expires 2024-10-28\n"
     ]
    }
   ],
   "source": [
    "model = gp.Model('modelo 3')"
   ]
  },
  {
   "cell_type": "code",
   "execution_count": 3,
   "id": "68b028a4",
   "metadata": {},
   "outputs": [],
   "source": [
    "\n",
    "xt = model.addVar(vtype=gp.GRB.CONTINUOUS,name='xt')\n",
    "xa = model.addVar(vtype=gp.GRB.CONTINUOUS,name='xa')\n",
    "xg = model.addVar(vtype=gp.GRB.CONTINUOUS,name='xg')\n",
    "ca = model.addVar(vtype=gp.GRB.CONTINUOUS,name='ca')\n",
    "va = model.addVar(vtype=gp.GRB.CONTINUOUS,name='va')"
   ]
  },
  {
   "cell_type": "code",
   "execution_count": 4,
   "id": "37a5ad93",
   "metadata": {},
   "outputs": [],
   "source": [
    "model.setObjective(450*xg+120*xt+22*va+28*xa - 28*ca, gp.GRB.MAXIMIZE)"
   ]
  },
  {
   "cell_type": "code",
   "execution_count": 5,
   "id": "d9337e44",
   "metadata": {},
   "outputs": [
    {
     "data": {
      "text/plain": [
       "<gurobi.Constr *Awaiting Model Update*>"
      ]
     },
     "execution_count": 5,
     "metadata": {},
     "output_type": "execute_result"
    }
   ],
   "source": [
    "model.addConstr(xt+xa+0.1*xg<=800)\n",
    "model.addConstr(2*xt+3*xa+0.05*xg<=1000)\n",
    "model.addConstr(4*xa+ca - 5*xg-va==0)"
   ]
  },
  {
   "cell_type": "code",
   "execution_count": 6,
   "id": "46fbdf28",
   "metadata": {},
   "outputs": [
    {
     "name": "stdout",
     "output_type": "stream",
     "text": [
      "Gurobi Optimizer version 10.0.2 build v10.0.2rc0 (linux64)\n",
      "\n",
      "CPU model: Intel(R) Core(TM) i5-10300H CPU @ 2.50GHz, instruction set [SSE2|AVX|AVX2]\n",
      "Thread count: 4 physical cores, 8 logical processors, using up to 8 threads\n",
      "\n",
      "Optimize a model with 3 rows, 5 columns and 10 nonzeros\n",
      "Model fingerprint: 0x16cbc942\n",
      "Coefficient statistics:\n",
      "  Matrix range     [5e-02, 5e+00]\n",
      "  Objective range  [2e+01, 4e+02]\n",
      "  Bounds range     [0e+00, 0e+00]\n",
      "  RHS range        [8e+02, 1e+03]\n",
      "Presolve time: 0.00s\n",
      "Presolved: 3 rows, 5 columns, 10 nonzeros\n",
      "\n",
      "Iteration    Objective       Primal Inf.    Dual Inf.      Time\n",
      "       0    7.7400000e+32   4.487500e+30   7.740000e+02      0s\n",
      "       3    2.4800000e+06   0.000000e+00   0.000000e+00      0s\n",
      "\n",
      "Solved in 3 iterations and 0.01 seconds (0.00 work units)\n",
      "Optimal objective  2.480000000e+06\n"
     ]
    }
   ],
   "source": [
    "model.optimize()"
   ]
  },
  {
   "cell_type": "code",
   "execution_count": 7,
   "id": "f76ccf92",
   "metadata": {},
   "outputs": [
    {
     "data": {
      "text/plain": [
       "2480000.0"
      ]
     },
     "execution_count": 7,
     "metadata": {},
     "output_type": "execute_result"
    }
   ],
   "source": [
    "model.ObjVal"
   ]
  },
  {
   "cell_type": "code",
   "execution_count": 8,
   "id": "35723562",
   "metadata": {},
   "outputs": [
    {
     "data": {
      "text/plain": [
       "[<gurobi.Var xt (value 0.0)>,\n",
       " <gurobi.Var xa (value 0.0)>,\n",
       " <gurobi.Var xg (value 8000.0)>,\n",
       " <gurobi.Var ca (value 40000.0)>,\n",
       " <gurobi.Var va (value 0.0)>]"
      ]
     },
     "execution_count": 8,
     "metadata": {},
     "output_type": "execute_result"
    }
   ],
   "source": [
    "model.getVars()"
   ]
  },
  {
   "cell_type": "code",
   "execution_count": 10,
   "id": "8b131167",
   "metadata": {},
   "outputs": [
    {
     "data": {
      "text/plain": [
       "0.0"
      ]
     },
     "execution_count": 10,
     "metadata": {},
     "output_type": "execute_result"
    }
   ],
   "source": [
    "xt.x"
   ]
  },
  {
   "cell_type": "code",
   "execution_count": 11,
   "id": "b0de702c",
   "metadata": {},
   "outputs": [
    {
     "data": {
      "text/plain": [
       "8000.0"
      ]
     },
     "execution_count": 11,
     "metadata": {},
     "output_type": "execute_result"
    }
   ],
   "source": [
    "xg.x"
   ]
  },
  {
   "cell_type": "code",
   "execution_count": 12,
   "id": "594da15b",
   "metadata": {},
   "outputs": [
    {
     "data": {
      "text/plain": [
       "2"
      ]
     },
     "execution_count": 12,
     "metadata": {},
     "output_type": "execute_result"
    }
   ],
   "source": [
    "model.status # 2: solucion optima, 4 no tiene solucion"
   ]
  },
  {
   "cell_type": "code",
   "execution_count": 13,
   "id": "fc8799fd",
   "metadata": {},
   "outputs": [
    {
     "data": {
      "text/plain": [
       "'xt'"
      ]
     },
     "execution_count": 13,
     "metadata": {},
     "output_type": "execute_result"
    }
   ],
   "source": [
    "xt.varName"
   ]
  },
  {
   "cell_type": "code",
   "execution_count": 14,
   "id": "43e18730",
   "metadata": {},
   "outputs": [
    {
     "data": {
      "text/plain": [
       "-2980.0"
      ]
     },
     "execution_count": 14,
     "metadata": {},
     "output_type": "execute_result"
    }
   ],
   "source": [
    "xt.RC"
   ]
  },
  {
   "cell_type": "code",
   "execution_count": 17,
   "id": "9f1ed542",
   "metadata": {},
   "outputs": [
    {
     "name": "stdout",
     "output_type": "stream",
     "text": [
      "xt : -2980.0\n",
      "xa : -2960.0\n",
      "xg : 0.0\n",
      "ca : 0.0\n",
      "va : -6.0\n"
     ]
    }
   ],
   "source": [
    "# costo reduccion\n",
    "for v in model.getVars():\n",
    "    print(v.varName,\":\",v.RC)"
   ]
  },
  {
   "cell_type": "code",
   "execution_count": 20,
   "id": "55fe1302",
   "metadata": {},
   "outputs": [
    {
     "name": "stdout",
     "output_type": "stream",
     "text": [
      "R0 : 0.0\n",
      "R1 : 600.0\n",
      "R2 : 0.0\n"
     ]
    }
   ],
   "source": [
    "# holguras\n",
    "for r in model.getConstrs():\n",
    "    print(str(r)[-3:-1], \":\",r.slack)"
   ]
  },
  {
   "cell_type": "code",
   "execution_count": 21,
   "id": "5e3b2d7b",
   "metadata": {},
   "outputs": [
    {
     "name": "stdout",
     "output_type": "stream",
     "text": [
      "R0 : 3100.0\n",
      "R1 : 0.0\n",
      "R2 : -28.0\n"
     ]
    }
   ],
   "source": [
    "# precio dual\n",
    "for r in model.getConstrs():\n",
    "    print(str(r)[-3:-1], \":\",r.pi)"
   ]
  },
  {
   "cell_type": "code",
   "execution_count": 24,
   "id": "aa532b4a",
   "metadata": {},
   "outputs": [
    {
     "name": "stdout",
     "output_type": "stream",
     "text": [
      "xt : -inf 3100.0\n",
      "xa : -inf 2988.0\n",
      "xg : 154.0 inf\n",
      "ca : -82.81481481481481 -22.0\n",
      "va : -inf 28.0\n"
     ]
    }
   ],
   "source": [
    "# Sensibilidad varaibles\n",
    "for v in model.getVars():\n",
    "    print(v.varName,\":\",v.SAObjLow,v.SAObjup)"
   ]
  },
  {
   "cell_type": "code",
   "execution_count": 26,
   "id": "2905f248",
   "metadata": {},
   "outputs": [
    {
     "name": "stdout",
     "output_type": "stream",
     "text": [
      "R0 : 800.0 , 0.0 , 2000.0\n",
      "R1 : 1000.0 , 400.0 , inf\n",
      "R2 : 0.0 , -40000.0 , inf\n"
     ]
    }
   ],
   "source": [
    "# Sensibilidad restricciones\n",
    "for r in model.getConstrs():\n",
    "    print(str(r)[-3:-1], \":\",r.RHS, \",\",r.SARHSLow,\",\",r.SARHSUP)"
   ]
  }
 ],
 "metadata": {
  "kernelspec": {
   "display_name": "Python 3 (ipykernel)",
   "language": "python",
   "name": "python3"
  },
  "language_info": {
   "codemirror_mode": {
    "name": "ipython",
    "version": 3
   },
   "file_extension": ".py",
   "mimetype": "text/x-python",
   "name": "python",
   "nbconvert_exporter": "python",
   "pygments_lexer": "ipython3",
   "version": "3.10.12"
  },
  "toc": {
   "base_numbering": 1,
   "nav_menu": {},
   "number_sections": true,
   "sideBar": true,
   "skip_h1_title": false,
   "title_cell": "Table of Contents",
   "title_sidebar": "Contents",
   "toc_cell": false,
   "toc_position": {},
   "toc_section_display": true,
   "toc_window_display": false
  }
 },
 "nbformat": 4,
 "nbformat_minor": 5
}
